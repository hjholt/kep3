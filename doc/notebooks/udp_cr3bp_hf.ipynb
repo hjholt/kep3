{
 "cells": [
  {
   "cell_type": "markdown",
   "metadata": {},
   "source": [
    "# CR3BP low-thrust\n",
    "\n",
    "In this tutorial we show the use of the {class}`pykep.trajopt.direct_cr3bp` to find a low-thrust (zero-order hold continuous thrust) trajectory connecting two orbits in the circular restricted 3-body problem (CR3BP). \n",
    "\n",
    "The decision vector for this class, compatible with pygmo {cite:p}`pagmo` UDPs (User Defined Problems), is:\n",
    "\n",
    "$$\n",
    "\\mathbf x = [t_0, m_f, V_{sx}^\\infty, V^\\infty_{sy}, V^\\infty_{sz}, V^\\infty_{fx}, V^\\infty_{fy}, V^\\infty_{fz}, u_{x0}, u_{y0}, u_{z0}, u_{x1}, u_{y1}, u_{z1}, ..., T_{tof}]\n",
    "$$\n",
    "\n",
    "containing the starting epoch $t_0=0$, the final mass $m_f$ as well as the starting and final $V^{\\infty}$, throttles and the time-of-flight $T_{tof}$.\n",
    "\n",
    ":::{note}\n",
    "This notebook makes use of the commercial solver SNOPT 7 and to run needs a valid `snopt_7_c` library installed in the system. In case SNOPT7 is not available, you can still run the notebook using, for example `uda = pg.algorithm.nlopt(\"slsqp\")` with minor modifications.\n",
    "\n",
    "Basic imports:"
   ]
  },
  {
   "cell_type": "code",
   "execution_count": 1,
   "metadata": {},
   "outputs": [],
   "source": [
    "import pykep as pk\n",
    "import numpy as np\n",
    "import time\n",
    "import pygmo as pg\n",
    "import pygmo_plugins_nonfree as ppnf\n",
    "import time\n",
    "\n",
    "from matplotlib import pyplot as plt"
   ]
  },
  {
   "cell_type": "markdown",
   "metadata": {},
   "source": [
    "We start defining the problem data. For the purpose of this simple notebook we choose a simple Earth to Mars transfer."
   ]
  },
  {
   "cell_type": "code",
   "execution_count": 2,
   "metadata": {},
   "outputs": [],
   "source": [
    "import json\n",
    "\n",
    "# Load JSON file\n",
    "# with open(\"/Users/harry.holt/Documents/PostDoc_ACT/GTOC/benchmark-astrodynamics-sqp-scp/cr3bp_fixed_time_rdv/instances.json\", \"r\") as f:\n",
    "with open(\"/Users/harry.holt/Documents/PostDoc_ACT/GTOC/benchmark-astrodynamics-sqp-scp/cr3bp_fixed_time_rdv/instances_lb.json\", \"r\") as f:\n",
    "    data = json.load(f)\n",
    "\n",
    "# Id to load\n",
    "ID = 0\n",
    "\n",
    "# Problem data\n",
    "mu = pk.MU_MOON / (pk.MU_EARTH + pk.MU_MOON)\n",
    "\n",
    "# Example masses (you can adjust logic if they differ)\n",
    "ms = 1500.0\n",
    "mf = 1300.0\n",
    "isp = 3000  # fixed across cases\n",
    "\n",
    "for k, v in data.items():\n",
    "    if int(k) == int(ID):\n",
    "        max_thrust = v[\"umax\"]\n",
    "        tof = v[\"tspan\"][1]\n",
    "        veff = isp * pk.G0\n",
    "        \n",
    "        # Initial state\n",
    "        x0 = v[\"x0\"]\n",
    "        rs = np.array(x0[0:3])\n",
    "        vs = np.array(x0[3:6])\n",
    "        \n",
    "        # Final state\n",
    "        xf = v[\"xf\"]\n",
    "        rf = np.array(xf[0:3])\n",
    "        vf = np.array(xf[3:6])\n"
   ]
  },
  {
   "cell_type": "code",
   "execution_count": 3,
   "metadata": {},
   "outputs": [],
   "source": [
    "# Throttles and cuts\n",
    "nseg = 2\n",
    "cut = 0.6"
   ]
  },
  {
   "cell_type": "code",
   "execution_count": 4,
   "metadata": {},
   "outputs": [
    {
     "name": "stdout",
     "output_type": "stream",
     "text": [
      "Normalise L 384400000.0000 T 375190.2619 V 1024.5468 M 1500.0000\n"
     ]
    }
   ],
   "source": [
    "# Normalise\n",
    "L = 384400e3\n",
    "TIME = np.sqrt(L**3 / (pk.MU_EARTH+pk.MU_MOON))\n",
    "VEL = L / TIME\n",
    "ACC = VEL / TIME\n",
    "MASS = ms\n",
    "\n",
    "print(f'Normalise L {L:.4f} T {TIME:.4f} V {VEL:.4f} M {MASS:.4f}')\n",
    "\n",
    "# Problem data\n",
    "# mu already in non-dimensional units\n",
    "# max_thrust = max_thrust / (MASS * L**3 / TIME**2)\n",
    "veff = veff / VEL\n",
    "\n",
    "# Initial state\n",
    "ms = ms / MASS\n",
    "# rs already in non-dimensional units\n",
    "# vs already in non-dimensional units\n",
    "\n",
    "# Final state\n",
    "mf = mf / MASS\n",
    "# rf already in non-dimensional units\n",
    "# vf already in non-dimensional units\n",
    "\n",
    "# tof\n",
    "# tof = tof / TIME\n",
    "# tof already in non-dimensional units"
   ]
  },
  {
   "cell_type": "markdown",
   "metadata": {},
   "source": [
    "Convert final position and velocity into an orbit"
   ]
  },
  {
   "cell_type": "code",
   "execution_count": 5,
   "metadata": {},
   "outputs": [
    {
     "name": "stdout",
     "output_type": "stream",
     "text": [
      "IC [ 1.01728518 -0.02281703 -0.16695631] [-0.03029824 -0.08797148  0.12306713] t 1.3010426069826053e-18\n",
      "FC [0.98740797 0.         0.00798274] [0.         1.71563544 0.        ] 5.0\n"
     ]
    }
   ],
   "source": [
    "posvel0 = [\n",
    "    rs.tolist(),\n",
    "    vs.tolist()\n",
    "]\n",
    "\n",
    "# Propagate backwards to t0\n",
    "ta = pk.ta.get_cr3bp(1e-16)\n",
    "ta.pars[0] = mu\n",
    "ta.time = tof\n",
    "ta.state[:6] = rf.tolist() + vf.tolist()\n",
    "\n",
    "tgrid = np.linspace(tof,0.0,10)\n",
    "sol = ta.propagate_grid(tgrid)\n",
    "integration = sol[5]\n",
    "\n",
    "rf_0 = integration[-1,:3]\n",
    "vf_0 = integration[-1,3:6]\n",
    "\n",
    "posvelf = [\n",
    "    rf_0.tolist(),\n",
    "    vf_0.tolist()\n",
    "]\n",
    "\n",
    "print(f'IC {rf_0} {vf_0} t {ta.time}')\n",
    "print(f'FC {rf} {vf} {tof}')\n"
   ]
  },
  {
   "cell_type": "markdown",
   "metadata": {},
   "source": [
    "We here instantiate two different versions of the same UDP (User Defined Problem), with analytical gradients and without. \n",
    "\n",
    "For the purpose of this simple notebook we choose a relatively simple Earth to Mars transfer with an initial $V_{\\infty}$ of 3 km/s."
   ]
  },
  {
   "cell_type": "code",
   "execution_count": 6,
   "metadata": {},
   "outputs": [],
   "source": [
    "udp_g = pk.trajopt.direct_cr3bp(\n",
    "        pls=posvel0,\n",
    "        plf=posvelf,\n",
    "        ms=ms,\n",
    "        mu=mu,\n",
    "        max_thrust=max_thrust,\n",
    "        veff=veff,\n",
    "        t0_bounds=[0.0, 0.0],\n",
    "        tof_bounds=[tof,tof],\n",
    "        mf_bounds=[ms*0.5, ms],\n",
    "        vinfs=0.,\n",
    "        vinff=0.,\n",
    "        nseg=nseg,\n",
    "        cut=cut,\n",
    "        with_gradient=True,\n",
    "        high_fidelity=True\n",
    ")"
   ]
  },
  {
   "cell_type": "markdown",
   "metadata": {},
   "source": [
    "## Analytical performances of the analytical gradient\n",
    "\n",
    "And we take a quick look at the performances of the analytical gradient with respect to the numerically computed one."
   ]
  },
  {
   "cell_type": "code",
   "execution_count": 7,
   "metadata": {},
   "outputs": [],
   "source": [
    "# We need to generste a random chromosomes compatible with the UDP where to test the gradient.\n",
    "prob_g = pg.problem(udp_g)\n",
    "pop_g = pg.population(prob_g, 1)"
   ]
  },
  {
   "cell_type": "code",
   "execution_count": null,
   "metadata": {},
   "outputs": [],
   "source": [
    "def compute_numerical_gradient(sf_leg, sf_leg_type = 'lf'):\n",
    "    import numpy as np\n",
    "    import pykep as pk\n",
    "    import pygmo as pg\n",
    "\n",
    "    state_length = np.array(sf_leg.rvs).flatten().size + 1\n",
    "    throttle_length = np.array(sf_leg.throttles).size\n",
    "    chromosome = np.zeros((state_length * 2 + throttle_length + 1))\n",
    "    chromosome[0:state_length] = np.append(np.array(sf_leg.rvs).flatten(), sf_leg.ms)\n",
    "    chromosome[state_length:state_length+throttle_length] = np.array(sf_leg.throttles)\n",
    "    chromosome[state_length+throttle_length:state_length*2+throttle_length] = np.append(np.array(sf_leg.rvf).flatten(), sf_leg.mf)\n",
    "    chromosome[-1] = sf_leg.tof\n",
    "\n",
    "    def set_and_compute_constraints(chromosome, sf_leg_type = 'lf'):\n",
    "\n",
    "        if sf_leg_type == 'hf' or sf_leg_type == 'high-fidelity':\n",
    "            sf_leg_constraint = pk.leg.sims_flanagan_hf_nd()\n",
    "            # sf_leg_constraint = pk.leg.sims_flanagan_hf_nd(\n",
    "            #     tas = pk.ta.get_zero_hold_cr3bp(1e-16),\n",
    "            #     tas_var = pk.ta.get_zero_holdhold_cr3bp_var(1e-16)\n",
    "            # )\n",
    "        else:\n",
    "            xxx\n",
    "            sf_leg_constraint = pk.leg.sims_flanagan()\n",
    "        sf_leg_constraint.cut = 0.5\n",
    "        sf_leg_constraint.max_thrust = 1\n",
    "        sf_leg_constraint.mu = 0.012\n",
    "        sf_leg_constraint.veff = 1\n",
    "        sf_leg_constraint.rvs = [chromosome[0:3],chromosome[3:6]]\n",
    "        sf_leg_constraint.ms = chromosome[6]\n",
    "        sf_leg_constraint.throttles = chromosome[state_length:state_length+throttle_length]\n",
    "        sf_leg_constraint.rvf = [chromosome[state_length+throttle_length:state_length+throttle_length+3],chromosome[state_length+throttle_length+3:state_length+throttle_length+6]]\n",
    "        sf_leg_constraint.mf = chromosome[2*state_length+throttle_length-1]\n",
    "        sf_leg_constraint.tof = chromosome[2*state_length+throttle_length]\n",
    "        eq_con = sf_leg_constraint.compute_mismatch_constraints()\n",
    "        ineq_con = sf_leg_constraint.compute_throttle_constraints()\n",
    "        return np.concatenate((eq_con, ineq_con))\n",
    "\n",
    "    return pg.estimate_gradient_h(callable = lambda x : set_and_compute_constraints(x, sf_leg_type), x=chromosome)"
   ]
  },
  {
   "cell_type": "code",
   "execution_count": null,
   "metadata": {},
   "outputs": [],
   "source": [
    "def test_mc_grad_hf():\n",
    "    import numpy as np\n",
    "\n",
    "    sf_leg = pk.leg.sims_flanagan_hf_nd()\n",
    "    # sf_leg = pk.leg.sims_flanagan_hf_nd(\n",
    "    #     tas = pk.ta.get_zero_hold_cr3bp(1e-16),\n",
    "    #     tas_var = pk.ta.get_zero_hold_cr3bp_var(1e-16)\n",
    "    # )\n",
    "    sf_leg.cut = 0.5\n",
    "    sf_leg.throttles = np.array([0.10, 0.11, 0.12, 0.13, 0.14, 0.15, 0.16, 0.17, 0.18, 0.19, 0.2, 0.21, 0.22, 0.23, 0.24,\n",
    "    0.20, 0.21, 0.22, 0.23, 0.24, 0.25, 0.26, 0.27, 0.28, 0.29, 0.3, 0.31, 0.32, 0.33, 0.34])\n",
    "    sf_leg.rvs = np.array([[1, 0.1, -0.1], [0.2, 1.0, -0.2]])\n",
    "    sf_leg.ms = 1\n",
    "    sf_leg.rvf = np.array([[1.2, -0.1, 0.1], [-0.2, 1.023, -0.44]])\n",
    "    sf_leg.mf = 13 / 15\n",
    "    sf_leg.max_thrust = 1\n",
    "    sf_leg.mu = 0.012\n",
    "    sf_leg.veff = 1\n",
    "    sf_leg.tof = 1\n",
    "    state_length = np.array(sf_leg.rvs).flatten().size + 1\n",
    "    throttle_length = np.array(sf_leg.throttles).size\n",
    "\n",
    "    num_grad = compute_numerical_gradient(sf_leg, sf_leg_type = 'hf')\n",
    "    num_grad = num_grad.reshape((17, 45), order='C')\n",
    "    grad_rvm, grad_rvm_bck, grad_final = sf_leg.compute_mc_grad()\n",
    "    a_tc_grad = sf_leg.compute_tc_grad()\n",
    "    a_grad = np.zeros((state_length+throttle_length // 3, 2 * state_length + throttle_length + 1))\n",
    "    a_grad[0:state_length, 0:state_length] = grad_rvm\n",
    "    a_grad[0:state_length, state_length:state_length + throttle_length] = grad_final[:,0:throttle_length] \n",
    "    a_grad[0:state_length, state_length+throttle_length:state_length*2+throttle_length] = grad_rvm_bck\n",
    "    a_grad[0:state_length, state_length*2+throttle_length] = grad_final[:, throttle_length:throttle_length + 1].reshape(7,)\n",
    "    a_grad[state_length:, state_length:state_length+throttle_length] = a_tc_grad\n",
    "    return np.allclose(num_grad, a_grad, atol=1e-8)"
   ]
  },
  {
   "cell_type": "code",
   "execution_count": 10,
   "metadata": {},
   "outputs": [
    {
     "data": {
      "text/plain": [
       "True"
      ]
     },
     "execution_count": 10,
     "metadata": {},
     "output_type": "execute_result"
    }
   ],
   "source": [
    "test_mc_grad_hf()"
   ]
  },
  {
   "cell_type": "markdown",
   "metadata": {},
   "source": [
    "Compare gradient accuracy"
   ]
  },
  {
   "cell_type": "code",
   "execution_count": 11,
   "metadata": {},
   "outputs": [
    {
     "name": "stdout",
     "output_type": "stream",
     "text": [
      "sparsity[jj] [1, 0] analytical 36.984684314417365 numerical 34.70503884273057 diff 2.2796454716867913\n",
      "sparsity[jj] [1, 8] analytical 3.4429946128799402 numerical 10.329574233007104 diff 6.886579620127164\n",
      "sparsity[jj] [1, 11] analytical -3.2250427622350157 numerical -9.675475235818947 diff 6.450432473583931\n",
      "sparsity[jj] [2, 9] analytical 3.4515887990943743 numerical 10.356841310491898 diff 6.905252511397524\n",
      "sparsity[jj] [2, 12] analytical -3.209795087899189 numerical -9.629630426388758 diff 6.419835338489569\n",
      "sparsity[jj] [3, 10] analytical 3.502661888747291 numerical 10.507002675315865 diff 7.004340786568575\n",
      "sparsity[jj] [3, 13] analytical -3.1843605786315448 numerical -9.553232279320886 diff 6.368871700689342\n",
      "sparsity[jj] [4, 8] analytical 2.900354892111053 numerical 8.701298940631357 diff 5.800944048520304\n",
      "sparsity[jj] [4, 11] analytical 2.5560075915568015 numerical 7.6680809849942015 diff 5.1120733934374005\n",
      "sparsity[jj] [5, 9] analytical 2.911657146947703 numerical 8.7360193153548 diff 5.824362168407098\n",
      "sparsity[jj] [5, 12] analytical 2.5385098548724305 numerical 7.615745071613372 diff 5.077235216740942\n",
      "sparsity[jj] [6, 10] analytical 2.9804340803257454 numerical 8.941573407620734 diff 5.961139327294989\n",
      "sparsity[jj] [6, 13] analytical 2.509408721882726 numerical 7.528392724035864 diff 5.018984002153138\n",
      "diff (12, 15)\n",
      "‖diff‖: 21.32294132695025\n"
     ]
    }
   ],
   "source": [
    "# Check gradientss\n",
    "# Analytical\n",
    "an_grad = udp_g.gradient(pop_g.champion_x)\n",
    "# Numerical\n",
    "num_grad = pg.estimate_gradient_h(udp_g.fitness, pop_g.champion_x, dx=1e-12)\n",
    "\n",
    "# Suppose sparsity gives the positions (flat indices in num_grad)\n",
    "sparsity = udp_g.gradient_sparsity()  # e.g. [0, 3, 10, ...]\n",
    "\n",
    "# Make an empty dense gradient\n",
    "dim = int(9+3*nseg)\n",
    "dense_ana_grad = np.zeros_like(num_grad).reshape(int(len(num_grad)/dim),dim)\n",
    "num_grad = num_grad.reshape(int(len(num_grad)/dim),dim)\n",
    "\n",
    "# Fill in analytical entries at the right positions\n",
    "for jj in range(len(an_grad)):\n",
    "    dense_ana_grad[sparsity[jj][0], sparsity[jj][1]] = an_grad[jj]\n",
    "    diff_tmp = abs(dense_ana_grad[sparsity[jj][0], sparsity[jj][1]] - num_grad[sparsity[jj][0], sparsity[jj][1]])\n",
    "    if diff_tmp > 1:\n",
    "        print('sparsity[jj]',sparsity[jj] , 'analytical', dense_ana_grad[sparsity[jj][0], sparsity[jj][1]],'numerical', num_grad[sparsity[jj][0], sparsity[jj][1]],'diff',diff_tmp)\n",
    "# dense_ana_grad = dense_ana_grad.reshape(-1)\n",
    "# num_grad = num_grad.reshape(-1)\n",
    "\n",
    "# Now you can compare\n",
    "diff = num_grad - dense_ana_grad\n",
    "# print('Analytical', dense_ana_grad)\n",
    "# print('Numerical', num_grad)\n",
    "print('diff', np.shape(diff))\n",
    "print(\"‖diff‖:\", np.linalg.norm(diff))"
   ]
  },
  {
   "cell_type": "code",
   "execution_count": null,
   "metadata": {},
   "outputs": [
    {
     "data": {
      "text/plain": [
       "[(x, vx),\n",
       " (y, vy),\n",
       " (z, vz),\n",
       " (vx,\n",
       "  (((-p0 / (x**2.0000000000000000 + y**2.0000000000000000 + z**2.0000000000000000)**1.5000000000000000) * x) + (p2 / m))),\n",
       " (vy,\n",
       "  (((-p0 / (x**2.0000000000000000 + y**2.0000000000000000 + z**2.0000000000000000)**1.5000000000000000) * y) + (p3 / m))),\n",
       " (vz,\n",
       "  (((-p0 / (x**2.0000000000000000 + y**2.0000000000000000 + z**2.0000000000000000)**1.5000000000000000) * z) + (p4 / m))),\n",
       " (m,\n",
       "  select(((p2**2.0000000000000000 + p3**2.0000000000000000 + p4**2.0000000000000000)**0.50000000000000000 == 0.0000000000000000), 0.0000000000000000, (-(p2**2.0000000000000000 + p3**2.0000000000000000 + p4**2.0000000000000000)**0.50000000000000000 / p1)))]"
      ]
     },
     "execution_count": 13,
     "metadata": {},
     "output_type": "execute_result"
    }
   ],
   "source": [
    "pk.ta.zero_hold_dyn()"
   ]
  },
  {
   "cell_type": "code",
   "execution_count": 12,
   "metadata": {},
   "outputs": [
    {
     "ename": "NameError",
     "evalue": "name 'xxx' is not defined",
     "output_type": "error",
     "traceback": [
      "\u001b[31m---------------------------------------------------------------------------\u001b[39m",
      "\u001b[31mNameError\u001b[39m                                 Traceback (most recent call last)",
      "\u001b[36mCell\u001b[39m\u001b[36m \u001b[39m\u001b[32mIn[12]\u001b[39m\u001b[32m, line 1\u001b[39m\n\u001b[32m----> \u001b[39m\u001b[32m1\u001b[39m \u001b[43mxxx\u001b[49m\n",
      "\u001b[31mNameError\u001b[39m: name 'xxx' is not defined"
     ]
    }
   ],
   "source": [
    "xxx"
   ]
  },
  {
   "cell_type": "markdown",
   "metadata": {},
   "source": [
    "The analytical gradient its exact and faster, seems like a no brainer to use it. \n",
    "\n",
    "In reality, the effects on the optimization technique used are not straightforward, making the option to use numerical gradients still interesting in some, albeit rare, cases."
   ]
  },
  {
   "cell_type": "markdown",
   "metadata": {},
   "source": [
    "## Solving the low-thrust transfer\n",
    "\n",
    "We define (again) the optimization problem, and set a tolerance for *pagmo* to be able to judge the relative value of two individuals. \n",
    "\n",
    ":::{note}\n",
    "This tolerance has a different role from the numerical tolerance set in the particular algorithm chosen to solve the problem and is only used by the *pagmo* machinery to decide outside the optimizer whether the new proposed indivdual is better than what was the previous *champion*."
   ]
  },
  {
   "cell_type": "code",
   "execution_count": null,
   "metadata": {},
   "outputs": [],
   "source": [
    "prob_g = pg.problem(udp_g)\n",
    "prob_g.c_tol = 1e-6"
   ]
  },
  {
   "cell_type": "markdown",
   "metadata": {},
   "source": [
    "... and we define an optimization algorithm."
   ]
  },
  {
   "cell_type": "code",
   "execution_count": null,
   "metadata": {},
   "outputs": [],
   "source": [
    "snopt72 = \"/Users/harry.holt/opt/libsnopt7_c.dylib\"\n",
    "uda = ppnf.snopt7(library=snopt72, minor_version=2, screen_output=False)\n",
    "uda.set_integer_option(\"Major iterations limit\", 2000)\n",
    "uda.set_integer_option(\"Iterations limit\", 20000)\n",
    "uda.set_numeric_option(\"Major optimality tolerance\", 1e-3)\n",
    "uda.set_numeric_option(\"Major feasibility tolerance\", 1e-8)\n",
    "\n",
    "algo = pg.algorithm(uda)"
   ]
  },
  {
   "cell_type": "markdown",
   "metadata": {},
   "source": [
    "We solve the problem from random initial guess ten times and only save the result if a feasible solution is found (as defined by the criterias above)"
   ]
  },
  {
   "cell_type": "markdown",
   "metadata": {},
   "source": [
    "# Now convert to a higher number of segments"
   ]
  },
  {
   "cell_type": "code",
   "execution_count": null,
   "metadata": {},
   "outputs": [],
   "source": [
    "nseg_old = nseg"
   ]
  },
  {
   "cell_type": "code",
   "execution_count": null,
   "metadata": {},
   "outputs": [],
   "source": [
    "nseg_max = 80\n",
    "nseg = nseg_old\n",
    "\n",
    "while nseg <= nseg_max:\n",
    "\n",
    "    udp_g = pk.trajopt.direct_cr3bp(\n",
    "            pls=posvel0,\n",
    "            plf=posvelf,\n",
    "            ms=ms,\n",
    "            mu=mu,\n",
    "            max_thrust=max_thrust,\n",
    "            veff=veff,\n",
    "            t0_bounds=[0.0, 0.0],\n",
    "            tof_bounds=[tof,tof],\n",
    "            mf_bounds=[ms*0.5, ms],\n",
    "            vinfs=0.,\n",
    "            vinff=0.,\n",
    "            nseg=nseg,\n",
    "            cut=cut,\n",
    "            with_gradient=True,\n",
    "            high_fidelity=True\n",
    "    )\n",
    "\n",
    "    prob_g = pg.problem(udp_g)\n",
    "    prob_g.c_tol = 1e-6\n",
    "\n",
    "    if nseg != nseg_old:\n",
    "        throttles_old = best_x[8:-1]\n",
    "        throttles_init = [0.0] * (nseg * 3)\n",
    "        for nn in range(nseg_old):\n",
    "            throttles_init[nn*6:nn*6+3] = throttles_old[nn*3:nn*3+3]\n",
    "            throttles_init[nn*6+3:nn*6+6] = throttles_old[nn*3:nn*3+3]\n",
    "        x_init = best_x[0:8].tolist() + throttles_init + [best_x[-1].item()]\n",
    "        # x_init = np.array(x_init, dtype=float).tolist()\n",
    "\n",
    "    print('--------------------------')\n",
    "    print(f'Testing Nseg {nseg}')\n",
    "    total_time = 0.0\n",
    "\n",
    "    masses = []\n",
    "    xs = []\n",
    "    for i in range(10):\n",
    "        time_start = time.time()\n",
    "        \n",
    "        if nseg != nseg_old:\n",
    "            pop_g = pg.population(prob_g, 0)\n",
    "            pop_g.push_back(x_init)\n",
    "        else:\n",
    "            pop_g = pg.population(prob_g, 1)\n",
    "        \n",
    "        pop_g = algo.evolve(pop_g)\n",
    "        \n",
    "        time_end = time.time()\n",
    "        total_time += time_end - time_start\n",
    "\n",
    "        # print('err', np.linalg.norm(pop_g.champion_f[1:]), np.linalg.norm(pop_g.champion_f[1:4]), np.linalg.norm(pop_g.champion_f[4:7]))\n",
    "        if(prob_g.feasibility_f(pop_g.champion_f)):\n",
    "            print(\".\", end=\"\")\n",
    "            masses.append(pop_g.champion_x[1])\n",
    "            xs.append(pop_g.champion_x)\n",
    "            if nseg != nseg_old:\n",
    "                break\n",
    "        else:\n",
    "            print(\"x\", end =\"\")\n",
    "\n",
    "    if len(masses)>0:\n",
    "        print(\"\\nBest mass is: \", np.max(masses))\n",
    "        print(f\"Total time to success: {total_time:.3f} seconds\")\n",
    "        best_idx = np.argmax(masses)\n",
    "    else:\n",
    "        xs = [pop_g.champion_x]\n",
    "        best_idx = 0\n",
    "        print(\"\\nNo solution found\")\n",
    "\n",
    "    best_x = xs[best_idx]\n",
    "\n",
    "    # Update number of segments\n",
    "    nseg = nseg * 2"
   ]
  },
  {
   "cell_type": "markdown",
   "metadata": {},
   "source": [
    "And we plot the trajectory found:"
   ]
  },
  {
   "cell_type": "code",
   "execution_count": null,
   "metadata": {},
   "outputs": [],
   "source": [
    "udp_g.pretty(best_x)"
   ]
  },
  {
   "cell_type": "code",
   "execution_count": null,
   "metadata": {},
   "outputs": [],
   "source": [
    "ax = udp_g.plot(best_x, show_gridpoints=False, show_throttles=True, show_midpoints=False)\n",
    "# Making the axes nicer\n",
    "# ax.set_xlim(-0.1,1.1)\n",
    "# ax.set_ylim(-1/2,1/2)\n",
    "# ax.view_init(-90,-90)\n",
    "# ax.axis('off');"
   ]
  },
  {
   "cell_type": "code",
   "execution_count": null,
   "metadata": {},
   "outputs": [],
   "source": [
    "nseg = 4"
   ]
  },
  {
   "cell_type": "code",
   "execution_count": null,
   "metadata": {},
   "outputs": [],
   "source": [
    "# Extract throttle values from the best solution\n",
    "tgrid = np.linspace(best_x[0], best_x[-1], nseg+1)\n",
    "throttle_profile = best_x[8:-1].reshape(nseg, 3)\n",
    "# throttle_profile_ones = np.ones_like(throttle_profile)\n",
    "\n",
    "# Objective: integral of the thrust\n",
    "# obj = np.trapezoid(np.linalg.norm(throttle_profile[:, 0:3],axis=1),tgrid)/(tgrid[-1]-tgrid[0])\n",
    "obj = np.sum(np.linalg.norm(throttle_profile[:, 0:3],axis=1) * np.diff(tgrid)) / (tgrid[-1]-tgrid[0])\n",
    "\n",
    "# Create time grid for throttle segments\n",
    "segment_times = np.linspace(0, tof, nseg)\n",
    "\n",
    "# Plot thrust profile for each axis\n",
    "plt.figure(figsize=(8, 5))\n",
    "plt.step(tgrid, np.hstack((throttle_profile[:, 0], throttle_profile[-1, 0])), label='u_x', where='post')\n",
    "plt.step(tgrid, np.hstack((throttle_profile[:, 1], throttle_profile[-1, 1])), label='u_y', where='post')\n",
    "plt.step(tgrid, np.hstack((throttle_profile[:, 2], throttle_profile[-1, 2])), label='u_z', where='post')\n",
    "plt.step(tgrid, np.hstack((np.linalg.norm(throttle_profile[:, 0:3],axis=1), np.linalg.norm(throttle_profile[-1, 0:3]))), color='k', label='||u||', where='post')\n",
    "plt.xlabel('Time [-]')\n",
    "plt.ylabel('Throttle')\n",
    "plt.title(f'Thrust Profile: Obj {obj:.4f}')\n",
    "plt.legend()\n",
    "plt.grid(True)\n",
    "plt.show()"
   ]
  },
  {
   "cell_type": "code",
   "execution_count": null,
   "metadata": {},
   "outputs": [],
   "source": []
  }
 ],
 "metadata": {
  "kernelspec": {
   "display_name": "kep3_devel",
   "language": "python",
   "name": "python3"
  },
  "language_info": {
   "codemirror_mode": {
    "name": "ipython",
    "version": 3
   },
   "file_extension": ".py",
   "mimetype": "text/x-python",
   "name": "python",
   "nbconvert_exporter": "python",
   "pygments_lexer": "ipython3",
   "version": "3.13.5"
  },
  "orig_nbformat": 4
 },
 "nbformat": 4,
 "nbformat_minor": 2
}
