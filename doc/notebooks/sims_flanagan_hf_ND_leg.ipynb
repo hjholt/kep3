{
 "cells": [
  {
   "cell_type": "markdown",
   "metadata": {},
   "source": [
    "# The Sims-Flanagan high-fidelity trajectory leg\n",
    "\n",
    "The Sims-Flanagan trajectory leg {cite:p}`sims` is implemented in `pykep` in the class {class}`pykep.leg.sims_flanagan_hf`. The leg can be used to describe efficiently a low-thrust leg with low-fidelity as it assumes Keplerian dynamics\n",
    "and approximates the continuous thrust via a sequence of continuous, constant thrust arcs. The leg is defined by a starting position $\\mathbf x_s = [\\mathbf r_s, \\mathbf v_s, m_s]$, an arrival position $\\mathbf x_f = [\\mathbf r_f, \\mathbf v_f, m_f]$ and a time of flight $T$.\n",
    "\n",
    "A sequence of throttles $\\mathbf u = [u_{x0}, u_{y0}, u_{z0}, u_{x1}, u_{y1}, u_{z1}, u_{x2}, u_{y2}, u_{z2}, ... ]$ define the direction and magnitude of the continuous thrust vector along each segment (i.e. trajectory parts of equal temporal length $\\frac Tn$).\n",
    "\n",
    "In this tutorial we show the basic API to interface with the class {class}`pykep.leg.sims_flanagan_hf` efficiently.\n",
    "\n",
    "We start with some imports:"
   ]
  },
  {
   "cell_type": "code",
   "execution_count": 1,
   "metadata": {},
   "outputs": [],
   "source": [
    "import pykep as pk\n",
    "import numpy as np\n",
    "import time\n",
    "\n",
    "from matplotlib import pyplot as plt\n",
    "from mpl_toolkits import mplot3d\n",
    "\n",
    "%matplotlib inline"
   ]
  },
  {
   "cell_type": "markdown",
   "metadata": {},
   "source": [
    "We then define the spacecraft propulsion system and the initial and final state. In this case they are not related to any orbital mechanics and are chosen arbitrarily for the purpose of demostrating the API."
   ]
  },
  {
   "cell_type": "code",
   "execution_count": 2,
   "metadata": {},
   "outputs": [],
   "source": [
    "# Problem data\n",
    "mu = pk.MU_SUN\n",
    "max_thrust = 0.12\n",
    "isp = 3000\n",
    "\n",
    "# Initial state\n",
    "ms = 1500.0\n",
    "rs = np.array([1, 0.1, -0.1]) * pk.AU\n",
    "vs = np.array([0.2, 1, -0.2]) * pk.EARTH_VELOCITY\n",
    "\n",
    "# Final state\n",
    "mf = 1300.0\n",
    "rf = np.array([-1.2, -0.1, 0.1]) * pk.AU\n",
    "vf = np.array([0.2, -1.023, 0.44]) * pk.EARTH_VELOCITY\n",
    "\n",
    "# Throttles and tof\n",
    "nseg = 10\n",
    "cut = 0.6\n",
    "throttles = np.random.uniform(-1, 1, size=(nseg * 3))\n",
    "tof = 324.0 * pk.DAY2SEC"
   ]
  },
  {
   "cell_type": "code",
   "execution_count": 3,
   "metadata": {},
   "outputs": [
    {
     "name": "stdout",
     "output_type": "stream",
     "text": [
      "Normalise L 149597870700.0000 T 5022642.8909 V 29784.6918 M 1500.0000\n"
     ]
    }
   ],
   "source": [
    "# Normalise\n",
    "L = pk.AU\n",
    "TIME = np.sqrt(L**3 / mu)\n",
    "VEL = L / TIME\n",
    "ACC = VEL / TIME\n",
    "MASS = ms\n",
    "\n",
    "print(f'Normalise L {L:.4f} T {TIME:.4f} V {VEL:.4f} M {MASS:.4f}')\n",
    "\n",
    "# Problem data\n",
    "mu = mu / (L**3 / TIME**2)\n",
    "max_thrust = max_thrust / (MASS * L**3 / TIME**2)\n",
    "isp = isp / TIME\n",
    "\n",
    "# Initial state\n",
    "ms = ms / MASS\n",
    "rs = rs / L\n",
    "vs = vs / VEL\n",
    "\n",
    "# Final state\n",
    "mf = mf / MASS\n",
    "rf = rf / L\n",
    "vf = vf / VEL\n",
    "\n",
    "# tof\n",
    "tof = tof / TIME"
   ]
  },
  {
   "cell_type": "markdown",
   "metadata": {},
   "source": [
    "Now we instantiate the leg:"
   ]
  },
  {
   "cell_type": "code",
   "execution_count": 4,
   "metadata": {},
   "outputs": [],
   "source": [
    "# We are now ready to instantiate a leg\n",
    "sf = pk.leg.sims_flanagan_hf_ND(\n",
    "    rvs=[rs, vs],\n",
    "    ms=ms,\n",
    "    throttles=throttles,\n",
    "    rvf=[rf, vf],\n",
    "    mf=mf,\n",
    "    tof=tof,\n",
    "    max_thrust=max_thrust,\n",
    "    isp_g0=isp*pk.G0,\n",
    "    mu=mu,\n",
    "    cut=cut,\n",
    ")"
   ]
  },
  {
   "cell_type": "markdown",
   "metadata": {},
   "source": [
    "And plot the trajectory represented by the random sequence of throttles."
   ]
  },
  {
   "cell_type": "code",
   "execution_count": null,
   "metadata": {},
   "outputs": [
    {
     "data": {
      "image/png": "[encoded data removed]",
      "text/plain": [
       "<Figure size 700x700 with 1 Axes>"
      ]
     },
     "metadata": {},
     "output_type": "display_data"
    }
   ],
   "source": [
    "# Making the axis\n",
    "ax = pk.plot.make_3Daxis(figsize=(7, 7))\n",
    "\n",
    "# Adding the Sun Earth and the boundary states\n",
    "udpla = pk.udpla.jpl_lp(body=\"EARTH\")\n",
    "earth = pk.planet(udpla)\n",
    "pk.plot.add_sun(ax, s=40)\n",
    "pk.plot.add_planet_orbit(ax, earth)\n",
    "ax.scatter(rs[0] * L / pk.AU, rs[1] * L / pk.AU, rs[2] * L / pk.AU, c=\"k\", s=20)\n",
    "ax.scatter(rf[0] * L / pk.AU, rf[1] * L / pk.AU, rf[2] * L / pk.AU, c=\"k\", s=20)\n",
    "\n",
    "\n",
    "# Plotting the trajctory leg\n",
    "ax = pk.plot.add_sf_hf_leg(\n",
    "    ax, sf, units=pk.AU, N=10, show_gridpoints=True, show_throttles=True, length=0.1, arrow_length_ratio=0.5,\n",
    "    unit_L=L, unit_T=TIME, unit_M=MASS,\n",
    ")\n",
    "\n",
    "\n",
    "# Making the axis nicer\n",
    "D=1\n",
    "ax.set_xlim(-D,D)\n",
    "ax.set_ylim(-D/2,D*3/2)\n",
    "ax.view_init(90,0)\n",
    "ax.axis('off');\n"
   ]
  },
  {
   "cell_type": "code",
   "execution_count": null,
   "metadata": {},
   "outputs": [],
   "source": []
  }
 ],
 "metadata": {
  "kernelspec": {
   "display_name": "kep3_devel",
   "language": "python",
   "name": "python3"
  },
  "language_info": {
   "codemirror_mode": {
    "name": "ipython",
    "version": 3
   },
   "file_extension": ".py",
   "mimetype": "text/x-python",
   "name": "python",
   "nbconvert_exporter": "python",
   "pygments_lexer": "ipython3",
   "version": "3.13.5"
  }
 },
 "nbformat": 4,
 "nbformat_minor": 2
}
